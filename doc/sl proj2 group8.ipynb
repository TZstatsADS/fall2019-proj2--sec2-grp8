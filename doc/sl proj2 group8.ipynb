{
 "cells": [
  {
   "cell_type": "code",
   "execution_count": 2,
   "metadata": {},
   "outputs": [],
   "source": [
    "import pandas as pd"
   ]
  },
  {
   "cell_type": "code",
   "execution_count": 33,
   "metadata": {},
   "outputs": [],
   "source": [
    "teen_data = pd.read_csv(\"../data/teen_data.csv\")\n",
    "activities = pd.read_csv(\"../data/activities.csv\")\n",
    "updated_activities = pd.read_csv(\"../data/updated_activities.csv\")"
   ]
  },
  {
   "cell_type": "code",
   "execution_count": 6,
   "metadata": {
    "scrolled": true
   },
   "outputs": [
    {
     "data": {
      "text/html": [
       "<div>\n",
       "<style scoped>\n",
       "    .dataframe tbody tr th:only-of-type {\n",
       "        vertical-align: middle;\n",
       "    }\n",
       "\n",
       "    .dataframe tbody tr th {\n",
       "        vertical-align: top;\n",
       "    }\n",
       "\n",
       "    .dataframe thead th {\n",
       "        text-align: right;\n",
       "    }\n",
       "</style>\n",
       "<table border=\"1\" class=\"dataframe\">\n",
       "  <thead>\n",
       "    <tr style=\"text-align: right;\">\n",
       "      <th></th>\n",
       "      <th>Unnamed: 0</th>\n",
       "      <th>CMPLNT_NUM</th>\n",
       "      <th>CMPLNT_FR_DT</th>\n",
       "      <th>CMPLNT_FR_TM</th>\n",
       "      <th>LAW_CAT_CD</th>\n",
       "      <th>BORO_NM</th>\n",
       "      <th>Latitude</th>\n",
       "      <th>Longitude</th>\n",
       "      <th>VIC_AGE_GROUP</th>\n",
       "      <th>VIC_RACE</th>\n",
       "      <th>VIC_SEX</th>\n",
       "    </tr>\n",
       "  </thead>\n",
       "  <tbody>\n",
       "    <tr>\n",
       "      <td>0</td>\n",
       "      <td>71</td>\n",
       "      <td>637011777</td>\n",
       "      <td>12/31/2018</td>\n",
       "      <td>08:50:00</td>\n",
       "      <td>VIOLATION</td>\n",
       "      <td>BROOKLYN</td>\n",
       "      <td>40.666662</td>\n",
       "      <td>-73.941062</td>\n",
       "      <td>&lt;18</td>\n",
       "      <td>WHITE</td>\n",
       "      <td>M</td>\n",
       "    </tr>\n",
       "    <tr>\n",
       "      <td>1</td>\n",
       "      <td>75</td>\n",
       "      <td>466770769</td>\n",
       "      <td>12/31/2018</td>\n",
       "      <td>19:45:00</td>\n",
       "      <td>VIOLATION</td>\n",
       "      <td>BROOKLYN</td>\n",
       "      <td>40.632894</td>\n",
       "      <td>-73.947699</td>\n",
       "      <td>&lt;18</td>\n",
       "      <td>BLACK</td>\n",
       "      <td>F</td>\n",
       "    </tr>\n",
       "  </tbody>\n",
       "</table>\n",
       "</div>"
      ],
      "text/plain": [
       "   Unnamed: 0  CMPLNT_NUM CMPLNT_FR_DT CMPLNT_FR_TM LAW_CAT_CD   BORO_NM  \\\n",
       "0          71   637011777   12/31/2018     08:50:00  VIOLATION  BROOKLYN   \n",
       "1          75   466770769   12/31/2018     19:45:00  VIOLATION  BROOKLYN   \n",
       "\n",
       "    Latitude  Longitude VIC_AGE_GROUP VIC_RACE VIC_SEX  \n",
       "0  40.666662 -73.941062           <18    WHITE       M  \n",
       "1  40.632894 -73.947699           <18    BLACK       F  "
      ]
     },
     "execution_count": 6,
     "metadata": {},
     "output_type": "execute_result"
    }
   ],
   "source": [
    "teen_data.head(2)"
   ]
  },
  {
   "cell_type": "code",
   "execution_count": 5,
   "metadata": {},
   "outputs": [
    {
     "data": {
      "text/html": [
       "<div>\n",
       "<style scoped>\n",
       "    .dataframe tbody tr th:only-of-type {\n",
       "        vertical-align: middle;\n",
       "    }\n",
       "\n",
       "    .dataframe tbody tr th {\n",
       "        vertical-align: top;\n",
       "    }\n",
       "\n",
       "    .dataframe thead th {\n",
       "        text-align: right;\n",
       "    }\n",
       "</style>\n",
       "<table border=\"1\" class=\"dataframe\">\n",
       "  <thead>\n",
       "    <tr style=\"text-align: right;\">\n",
       "      <th></th>\n",
       "      <th>Unnamed: 0</th>\n",
       "      <th>PROGRAM.TYPE</th>\n",
       "      <th>PROGRAM</th>\n",
       "      <th>SITE.NAME</th>\n",
       "      <th>BOROUGH...COMMUNITY</th>\n",
       "      <th>AGENCY</th>\n",
       "      <th>Contact.Number</th>\n",
       "      <th>Grade.Level...Age.Group</th>\n",
       "      <th>Location.1</th>\n",
       "      <th>Postcode</th>\n",
       "      <th>Latitude</th>\n",
       "      <th>Longitude</th>\n",
       "    </tr>\n",
       "  </thead>\n",
       "  <tbody>\n",
       "    <tr>\n",
       "      <td>0</td>\n",
       "      <td>1</td>\n",
       "      <td>Immigration Services,Immigrant Support Service...</td>\n",
       "      <td>NDA Immigrants</td>\n",
       "      <td>Make the Road New York</td>\n",
       "      <td>Jackson Heights</td>\n",
       "      <td>Make the Road New York</td>\n",
       "      <td>718-418-7690 X 205</td>\n",
       "      <td>Adult</td>\n",
       "      <td>92 10 Roosevelt Avenue</td>\n",
       "      <td>11372</td>\n",
       "      <td>40.748623</td>\n",
       "      <td>-73.874487</td>\n",
       "    </tr>\n",
       "    <tr>\n",
       "      <td>1</td>\n",
       "      <td>2</td>\n",
       "      <td>Jobs &amp; Internships</td>\n",
       "      <td>Young Adult Internship Program</td>\n",
       "      <td>NYSARC, Inc. NYC Chapter</td>\n",
       "      <td>Staten Island</td>\n",
       "      <td>NYSARC, Inc. NYC Chapter</td>\n",
       "      <td>718.246.1506</td>\n",
       "      <td>16 to 24</td>\n",
       "      <td>120 Stuyvesant Place</td>\n",
       "      <td>10301</td>\n",
       "      <td>40.642992</td>\n",
       "      <td>-74.076954</td>\n",
       "    </tr>\n",
       "  </tbody>\n",
       "</table>\n",
       "</div>"
      ],
      "text/plain": [
       "   Unnamed: 0                                       PROGRAM.TYPE  \\\n",
       "0           1  Immigration Services,Immigrant Support Service...   \n",
       "1           2                                 Jobs & Internships   \n",
       "\n",
       "                          PROGRAM                 SITE.NAME  \\\n",
       "0                  NDA Immigrants    Make the Road New York   \n",
       "1  Young Adult Internship Program  NYSARC, Inc. NYC Chapter   \n",
       "\n",
       "  BOROUGH...COMMUNITY                    AGENCY       Contact.Number  \\\n",
       "0     Jackson Heights    Make the Road New York  718-418-7690 X 205    \n",
       "1       Staten Island  NYSARC, Inc. NYC Chapter         718.246.1506   \n",
       "\n",
       "  Grade.Level...Age.Group              Location.1  Postcode   Latitude  \\\n",
       "0                   Adult  92 10 Roosevelt Avenue     11372  40.748623   \n",
       "1                16 to 24    120 Stuyvesant Place     10301  40.642992   \n",
       "\n",
       "   Longitude  \n",
       "0 -73.874487  \n",
       "1 -74.076954  "
      ]
     },
     "execution_count": 5,
     "metadata": {},
     "output_type": "execute_result"
    }
   ],
   "source": [
    "updated_activities.head(2)"
   ]
  },
  {
   "cell_type": "code",
   "execution_count": 7,
   "metadata": {},
   "outputs": [
    {
     "data": {
      "text/plain": [
       "Index(['Unnamed: 0', 'PROGRAM.TYPE', 'PROGRAM', 'SITE.NAME',\n",
       "       'BOROUGH...COMMUNITY', 'AGENCY', 'Contact.Number',\n",
       "       'Grade.Level...Age.Group', 'Location.1', 'Postcode', 'Latitude',\n",
       "       'Longitude'],\n",
       "      dtype='object')"
      ]
     },
     "execution_count": 7,
     "metadata": {},
     "output_type": "execute_result"
    }
   ],
   "source": [
    "updated_activities.columns"
   ]
  },
  {
   "cell_type": "code",
   "execution_count": 8,
   "metadata": {},
   "outputs": [
    {
     "data": {
      "text/plain": [
       "Index(['Unnamed: 0', 'CMPLNT_NUM', 'CMPLNT_FR_DT', 'CMPLNT_FR_TM',\n",
       "       'LAW_CAT_CD', 'BORO_NM', 'Latitude', 'Longitude', 'VIC_AGE_GROUP',\n",
       "       'VIC_RACE', 'VIC_SEX'],\n",
       "      dtype='object')"
      ]
     },
     "execution_count": 8,
     "metadata": {},
     "output_type": "execute_result"
    }
   ],
   "source": [
    "teen_data.columns"
   ]
  },
  {
   "cell_type": "code",
   "execution_count": 10,
   "metadata": {},
   "outputs": [
    {
     "data": {
      "text/plain": [
       "{'BRONX', 'BROOKLYN', 'MANHATTAN', 'QUEENS', 'STATEN ISLAND'}"
      ]
     },
     "execution_count": 10,
     "metadata": {},
     "output_type": "execute_result"
    }
   ],
   "source": [
    "set(teen_data['BORO_NM'])"
   ]
  },
  {
   "cell_type": "code",
   "execution_count": 11,
   "metadata": {},
   "outputs": [
    {
     "data": {
      "text/plain": [
       "{'Astoria',\n",
       " 'Bronx',\n",
       " 'Brooklyn',\n",
       " 'Brookyn',\n",
       " 'Corona',\n",
       " 'Flushing',\n",
       " 'Forest Hills',\n",
       " 'Jackson Heights',\n",
       " 'Jamaica',\n",
       " 'Kew Gardens',\n",
       " 'Long Island City',\n",
       " 'Manhattan',\n",
       " 'New York',\n",
       " 'New York ',\n",
       " 'Queens',\n",
       " 'Staten Island'}"
      ]
     },
     "execution_count": 11,
     "metadata": {},
     "output_type": "execute_result"
    }
   ],
   "source": [
    "set(updated_activities['BOROUGH...COMMUNITY'])"
   ]
  },
  {
   "cell_type": "code",
   "execution_count": 27,
   "metadata": {},
   "outputs": [],
   "source": [
    "updated_activeis_byteen = updated_activities[(updated_activities['BOROUGH...COMMUNITY'] == 'Bronx') | (updated_activities['BOROUGH...COMMUNITY'] == 'Brooklyn')| (updated_activities['BOROUGH...COMMUNITY'] == 'Manhattan')| (updated_activities['BOROUGH...COMMUNITY'] == 'Queens')| (updated_activities['BOROUGH...COMMUNITY'] == 'Staten Island') ]"
   ]
  },
  {
   "cell_type": "code",
   "execution_count": 29,
   "metadata": {},
   "outputs": [],
   "source": [
    "#updated_activeis_byteen.to_csv('updated_activities_by_teen_borough')"
   ]
  },
  {
   "cell_type": "code",
   "execution_count": 83,
   "metadata": {},
   "outputs": [],
   "source": [
    "teen = teen_data.copy()"
   ]
  },
  {
   "cell_type": "code",
   "execution_count": 84,
   "metadata": {},
   "outputs": [],
   "source": [
    "#teen['BORO_NM'].mask(teen['BORO_NM'] == 'BRONX', 'Bronx', inplace=True)"
   ]
  },
  {
   "cell_type": "code",
   "execution_count": 85,
   "metadata": {},
   "outputs": [],
   "source": [
    "borough_to_replace = { 'BRONX': 'Bronx','BROOKLYN':'Brooklyn', 'MANHATTAN':'Manhattan','QUEENS': 'Queens','STATEN ISLAND':'Staten Island'}\n",
    "teen['BORO_NM'] = teen['BORO_NM'].map(borough_to_replace)\n"
   ]
  },
  {
   "cell_type": "code",
   "execution_count": 86,
   "metadata": {},
   "outputs": [
    {
     "data": {
      "text/html": [
       "<div>\n",
       "<style scoped>\n",
       "    .dataframe tbody tr th:only-of-type {\n",
       "        vertical-align: middle;\n",
       "    }\n",
       "\n",
       "    .dataframe tbody tr th {\n",
       "        vertical-align: top;\n",
       "    }\n",
       "\n",
       "    .dataframe thead th {\n",
       "        text-align: right;\n",
       "    }\n",
       "</style>\n",
       "<table border=\"1\" class=\"dataframe\">\n",
       "  <thead>\n",
       "    <tr style=\"text-align: right;\">\n",
       "      <th></th>\n",
       "      <th>Unnamed: 0</th>\n",
       "      <th>CMPLNT_NUM</th>\n",
       "      <th>CMPLNT_FR_DT</th>\n",
       "      <th>CMPLNT_FR_TM</th>\n",
       "      <th>LAW_CAT_CD</th>\n",
       "      <th>BORO_NM</th>\n",
       "      <th>Latitude</th>\n",
       "      <th>Longitude</th>\n",
       "      <th>VIC_AGE_GROUP</th>\n",
       "      <th>VIC_RACE</th>\n",
       "      <th>VIC_SEX</th>\n",
       "    </tr>\n",
       "  </thead>\n",
       "  <tbody>\n",
       "    <tr>\n",
       "      <td>0</td>\n",
       "      <td>71</td>\n",
       "      <td>637011777</td>\n",
       "      <td>12/31/2018</td>\n",
       "      <td>08:50:00</td>\n",
       "      <td>VIOLATION</td>\n",
       "      <td>Brooklyn</td>\n",
       "      <td>40.666662</td>\n",
       "      <td>-73.941062</td>\n",
       "      <td>&lt;18</td>\n",
       "      <td>WHITE</td>\n",
       "      <td>M</td>\n",
       "    </tr>\n",
       "    <tr>\n",
       "      <td>1</td>\n",
       "      <td>75</td>\n",
       "      <td>466770769</td>\n",
       "      <td>12/31/2018</td>\n",
       "      <td>19:45:00</td>\n",
       "      <td>VIOLATION</td>\n",
       "      <td>Brooklyn</td>\n",
       "      <td>40.632894</td>\n",
       "      <td>-73.947699</td>\n",
       "      <td>&lt;18</td>\n",
       "      <td>BLACK</td>\n",
       "      <td>F</td>\n",
       "    </tr>\n",
       "    <tr>\n",
       "      <td>2</td>\n",
       "      <td>105</td>\n",
       "      <td>854031512</td>\n",
       "      <td>12/31/2018</td>\n",
       "      <td>14:35:00</td>\n",
       "      <td>MISDEMEANOR</td>\n",
       "      <td>Brooklyn</td>\n",
       "      <td>40.592117</td>\n",
       "      <td>-73.984360</td>\n",
       "      <td>&lt;18</td>\n",
       "      <td>BLACK</td>\n",
       "      <td>F</td>\n",
       "    </tr>\n",
       "  </tbody>\n",
       "</table>\n",
       "</div>"
      ],
      "text/plain": [
       "   Unnamed: 0  CMPLNT_NUM CMPLNT_FR_DT CMPLNT_FR_TM   LAW_CAT_CD   BORO_NM  \\\n",
       "0          71   637011777   12/31/2018     08:50:00    VIOLATION  Brooklyn   \n",
       "1          75   466770769   12/31/2018     19:45:00    VIOLATION  Brooklyn   \n",
       "2         105   854031512   12/31/2018     14:35:00  MISDEMEANOR  Brooklyn   \n",
       "\n",
       "    Latitude  Longitude VIC_AGE_GROUP VIC_RACE VIC_SEX  \n",
       "0  40.666662 -73.941062           <18    WHITE       M  \n",
       "1  40.632894 -73.947699           <18    BLACK       F  \n",
       "2  40.592117 -73.984360           <18    BLACK       F  "
      ]
     },
     "execution_count": 86,
     "metadata": {},
     "output_type": "execute_result"
    }
   ],
   "source": [
    "teen.head(3)"
   ]
  },
  {
   "cell_type": "code",
   "execution_count": 89,
   "metadata": {},
   "outputs": [],
   "source": [
    "#teen.to_pickle('teen.pkl')"
   ]
  },
  {
   "cell_type": "code",
   "execution_count": 92,
   "metadata": {},
   "outputs": [],
   "source": [
    "teen =  pd.read_pickle('teen.pkl')"
   ]
  },
  {
   "cell_type": "code",
   "execution_count": 55,
   "metadata": {},
   "outputs": [],
   "source": [
    "#teen.to_csv('teen_fix_borough.csv')"
   ]
  },
  {
   "cell_type": "code",
   "execution_count": 61,
   "metadata": {},
   "outputs": [
    {
     "data": {
      "text/html": [
       "<div>\n",
       "<style scoped>\n",
       "    .dataframe tbody tr th:only-of-type {\n",
       "        vertical-align: middle;\n",
       "    }\n",
       "\n",
       "    .dataframe tbody tr th {\n",
       "        vertical-align: top;\n",
       "    }\n",
       "\n",
       "    .dataframe thead th {\n",
       "        text-align: right;\n",
       "    }\n",
       "</style>\n",
       "<table border=\"1\" class=\"dataframe\">\n",
       "  <thead>\n",
       "    <tr style=\"text-align: right;\">\n",
       "      <th></th>\n",
       "      <th>Unnamed: 0</th>\n",
       "      <th>PROGRAM.TYPE</th>\n",
       "      <th>PROGRAM</th>\n",
       "      <th>SITE.NAME</th>\n",
       "      <th>BOROUGH...COMMUNITY</th>\n",
       "      <th>AGENCY</th>\n",
       "      <th>Contact.Number</th>\n",
       "      <th>Grade.Level...Age.Group</th>\n",
       "      <th>Location.1</th>\n",
       "      <th>Postcode</th>\n",
       "      <th>Latitude</th>\n",
       "      <th>Longitude</th>\n",
       "    </tr>\n",
       "  </thead>\n",
       "  <tbody>\n",
       "    <tr>\n",
       "      <td>1</td>\n",
       "      <td>2</td>\n",
       "      <td>Jobs &amp; Internships</td>\n",
       "      <td>Young Adult Internship Program</td>\n",
       "      <td>NYSARC, Inc. NYC Chapter</td>\n",
       "      <td>Staten Island</td>\n",
       "      <td>NYSARC, Inc. NYC Chapter</td>\n",
       "      <td>718.246.1506</td>\n",
       "      <td>16 to 24</td>\n",
       "      <td>120 Stuyvesant Place</td>\n",
       "      <td>10301</td>\n",
       "      <td>40.642992</td>\n",
       "      <td>-74.076954</td>\n",
       "    </tr>\n",
       "    <tr>\n",
       "      <td>2</td>\n",
       "      <td>3</td>\n",
       "      <td>After-School Programs,Beacon,NYCHA Community C...</td>\n",
       "      <td>Beacon Satellite</td>\n",
       "      <td>NYCHA REDFERN HOUSES</td>\n",
       "      <td>Queens</td>\n",
       "      <td>Police Athletic League @Redfern Community Center</td>\n",
       "      <td>(718) 471-0360</td>\n",
       "      <td>6 and up</td>\n",
       "      <td>1544 Hassock Street</td>\n",
       "      <td>11691</td>\n",
       "      <td>40.609102</td>\n",
       "      <td>-73.753359</td>\n",
       "    </tr>\n",
       "    <tr>\n",
       "      <td>3</td>\n",
       "      <td>4</td>\n",
       "      <td>After-School Programs</td>\n",
       "      <td>Out of School Time</td>\n",
       "      <td>P.S. 205 CLARION SCHOOL</td>\n",
       "      <td>Brooklyn</td>\n",
       "      <td>YMCA of Greater New York/Prospect Park</td>\n",
       "      <td>(718) 234-2655</td>\n",
       "      <td>Elementary</td>\n",
       "      <td>6701 20th Avenue</td>\n",
       "      <td>11204</td>\n",
       "      <td>40.615270</td>\n",
       "      <td>-73.987149</td>\n",
       "    </tr>\n",
       "  </tbody>\n",
       "</table>\n",
       "</div>"
      ],
      "text/plain": [
       "   Unnamed: 0                                       PROGRAM.TYPE  \\\n",
       "1           2                                 Jobs & Internships   \n",
       "2           3  After-School Programs,Beacon,NYCHA Community C...   \n",
       "3           4                              After-School Programs   \n",
       "\n",
       "                          PROGRAM                 SITE.NAME  \\\n",
       "1  Young Adult Internship Program  NYSARC, Inc. NYC Chapter   \n",
       "2                Beacon Satellite      NYCHA REDFERN HOUSES   \n",
       "3              Out of School Time   P.S. 205 CLARION SCHOOL   \n",
       "\n",
       "  BOROUGH...COMMUNITY                                            AGENCY  \\\n",
       "1       Staten Island                          NYSARC, Inc. NYC Chapter   \n",
       "2              Queens  Police Athletic League @Redfern Community Center   \n",
       "3            Brooklyn            YMCA of Greater New York/Prospect Park   \n",
       "\n",
       "   Contact.Number Grade.Level...Age.Group            Location.1  Postcode  \\\n",
       "1    718.246.1506                16 to 24  120 Stuyvesant Place     10301   \n",
       "2  (718) 471-0360                6 and up   1544 Hassock Street     11691   \n",
       "3  (718) 234-2655              Elementary      6701 20th Avenue     11204   \n",
       "\n",
       "    Latitude  Longitude  \n",
       "1  40.642992 -74.076954  \n",
       "2  40.609102 -73.753359  \n",
       "3  40.615270 -73.987149  "
      ]
     },
     "execution_count": 61,
     "metadata": {},
     "output_type": "execute_result"
    }
   ],
   "source": [
    "updated_activeis_byteen.head(3)"
   ]
  },
  {
   "cell_type": "code",
   "execution_count": 65,
   "metadata": {},
   "outputs": [
    {
     "data": {
      "text/plain": [
       "(1057, 12)"
      ]
     },
     "execution_count": 65,
     "metadata": {},
     "output_type": "execute_result"
    }
   ],
   "source": [
    "updated_activeis_byteen.shape"
   ]
  },
  {
   "cell_type": "code",
   "execution_count": 66,
   "metadata": {},
   "outputs": [
    {
     "data": {
      "text/plain": [
       "(16441, 11)"
      ]
     },
     "execution_count": 66,
     "metadata": {},
     "output_type": "execute_result"
    }
   ],
   "source": [
    "teen.shape"
   ]
  },
  {
   "cell_type": "code",
   "execution_count": 71,
   "metadata": {},
   "outputs": [],
   "source": [
    "borough = list(set(updated_activeis_byteen['BOROUGH...COMMUNITY']))"
   ]
  },
  {
   "cell_type": "code",
   "execution_count": 72,
   "metadata": {},
   "outputs": [
    {
     "data": {
      "text/plain": [
       "['Staten Island', 'Queens', 'Manhattan', 'Brooklyn', 'Bronx']"
      ]
     },
     "execution_count": 72,
     "metadata": {},
     "output_type": "execute_result"
    }
   ],
   "source": [
    "borough"
   ]
  },
  {
   "cell_type": "code",
   "execution_count": 79,
   "metadata": {},
   "outputs": [
    {
     "name": "stdout",
     "output_type": "stream",
     "text": [
      "Staten Island : 58\n",
      "Queens : 255\n",
      "Manhattan : 93\n",
      "Brooklyn : 445\n",
      "Bronx : 206\n"
     ]
    }
   ],
   "source": [
    "for b in borough:\n",
    "    print(b,':',updated_activeis_byteen[updated_activeis_byteen['BOROUGH...COMMUNITY']==b].shape[0])"
   ]
  },
  {
   "cell_type": "code",
   "execution_count": null,
   "metadata": {},
   "outputs": [],
   "source": []
  }
 ],
 "metadata": {
  "kernelspec": {
   "display_name": "Python 3",
   "language": "python",
   "name": "python3"
  },
  "language_info": {
   "codemirror_mode": {
    "name": "ipython",
    "version": 3
   },
   "file_extension": ".py",
   "mimetype": "text/x-python",
   "name": "python",
   "nbconvert_exporter": "python",
   "pygments_lexer": "ipython3",
   "version": "3.7.3"
  }
 },
 "nbformat": 4,
 "nbformat_minor": 2
}
